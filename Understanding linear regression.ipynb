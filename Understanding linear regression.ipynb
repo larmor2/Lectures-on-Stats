{
 "cells": [
  {
   "cell_type": "markdown",
   "metadata": {},
   "source": [
    "http://connor-johnson.com/2014/02/18/linear-regression-with-python/"
   ]
  },
  {
   "cell_type": "code",
   "execution_count": 137,
   "metadata": {
    "collapsed": true
   },
   "outputs": [],
   "source": [
    "import pandas as pd\n",
    "import numpy as np\n",
    "import scipy as sc"
   ]
  },
  {
   "cell_type": "code",
   "execution_count": 201,
   "metadata": {
    "collapsed": true
   },
   "outputs": [],
   "source": [
    "from scipy import stats\n",
    "from sklearn import datasets, linear_model"
   ]
  },
  {
   "cell_type": "code",
   "execution_count": 272,
   "metadata": {
    "collapsed": true
   },
   "outputs": [],
   "source": [
    "#generate independent variable\n",
    "n=20\n",
    "x=np.linspace(-1,1,20)\n",
    "np.random.seed(20)"
   ]
  },
  {
   "cell_type": "code",
   "execution_count": 273,
   "metadata": {
    "collapsed": true
   },
   "outputs": [],
   "source": [
    "#generate dependent variable\n",
    "k=2\n",
    "y=x+np.random.normal(size=20)"
   ]
  },
  {
   "cell_type": "code",
   "execution_count": 274,
   "metadata": {},
   "outputs": [
    {
     "data": {
      "text/plain": [
       "[<matplotlib.lines.Line2D at 0x7f491bca95f8>]"
      ]
     },
     "execution_count": 274,
     "metadata": {},
     "output_type": "execute_result"
    },
    {
     "data": {
      "image/png": "[encoded data removed]",
      "text/plain": [
       "<matplotlib.figure.Figure at 0x7f491bd71a58>"
      ]
     },
     "metadata": {},
     "output_type": "display_data"
    }
   ],
   "source": [
    "import matplotlib.pyplot as plt\n",
    "%matplotlib inline\n",
    "plt.plot(x,y,'.')"
   ]
  },
  {
   "cell_type": "code",
   "execution_count": 275,
   "metadata": {},
   "outputs": [
    {
     "name": "stdout",
     "output_type": "stream",
     "text": [
      "           x         y\n",
      "0  -1.000000 -0.116107\n",
      "1  -0.894737 -0.698872\n",
      "2  -0.789474 -0.431937\n",
      "3  -0.684211 -3.027472\n",
      "4  -0.578947 -1.663780\n",
      "5  -0.473684  0.086012\n",
      "6  -0.368421  0.571048\n",
      "7  -0.263158 -1.241639\n",
      "8  -0.157895  0.345202\n",
      "9  -0.052632  0.353783\n",
      "10  0.052632  0.376093\n",
      "11  0.157895 -0.335516\n",
      "12  0.263158 -0.528859\n",
      "13  0.368421 -0.473947\n",
      "14  0.473684 -0.805818\n",
      "15  0.578947  0.824663\n",
      "16  0.684211  0.640016\n",
      "17  0.789474  2.357106\n",
      "18  0.894737  1.945846\n",
      "19  1.000000  1.406368\n"
     ]
    }
   ],
   "source": [
    "data = pd.DataFrame({'x': x, 'y': y})\n",
    "print(data);"
   ]
  },
  {
   "cell_type": "code",
   "execution_count": 252,
   "metadata": {
    "collapsed": true
   },
   "outputs": [],
   "source": [
    "import statsmodels.formula.api as sm"
   ]
  },
  {
   "cell_type": "code",
   "execution_count": 253,
   "metadata": {
    "collapsed": true
   },
   "outputs": [],
   "source": [
    "model=sm.ols('y ~ x',data)"
   ]
  },
  {
   "cell_type": "code",
   "execution_count": 254,
   "metadata": {},
   "outputs": [
    {
     "name": "stdout",
     "output_type": "stream",
     "text": [
      "                            OLS Regression Results                            \n",
      "==============================================================================\n",
      "Dep. Variable:                      y   R-squared:                       0.412\n",
      "Model:                            OLS   Adj. R-squared:                  0.380\n",
      "Method:                 Least Squares   F-statistic:                     12.63\n",
      "Date:                Fri, 14 Apr 2017   Prob (F-statistic):            0.00227\n",
      "Time:                        00:45:16   Log-Likelihood:                -26.621\n",
      "No. Observations:                  20   AIC:                             57.24\n",
      "Df Residuals:                      18   BIC:                             59.23\n",
      "Df Model:                           1                                         \n",
      "Covariance Type:            nonrobust                                         \n",
      "==============================================================================\n",
      "                 coef    std err          t      P>|t|      [0.025      0.975]\n",
      "------------------------------------------------------------------------------\n",
      "Intercept     -0.0209      0.216     -0.097      0.924      -0.474       0.433\n",
      "x              1.2641      0.356      3.554      0.002       0.517       2.011\n",
      "==============================================================================\n",
      "Omnibus:                        1.470   Durbin-Watson:                   1.478\n",
      "Prob(Omnibus):                  0.480   Jarque-Bera (JB):                1.233\n",
      "Skew:                          -0.553   Prob(JB):                        0.540\n",
      "Kurtosis:                       2.494   Cond. No.                         1.65\n",
      "==============================================================================\n",
      "\n",
      "Warnings:\n",
      "[1] Standard Errors assume that the covariance matrix of the errors is correctly specified.\n"
     ]
    }
   ],
   "source": [
    "results = model.fit()\n",
    "print(results.summary())"
   ]
  },
  {
   "cell_type": "code",
   "execution_count": 255,
   "metadata": {
    "collapsed": true
   },
   "outputs": [],
   "source": [
    "inter=results.params.Intercept"
   ]
  },
  {
   "cell_type": "code",
   "execution_count": 256,
   "metadata": {},
   "outputs": [
    {
     "name": "stdout",
     "output_type": "stream",
     "text": [
      "[[ 0.38781163  0.49023741]\n",
      " [ 0.49023741  1.50265727]]\n"
     ]
    }
   ],
   "source": [
    "c=np.cov(x,y,bias=False)\n",
    "print(c)"
   ]
  },
  {
   "cell_type": "code",
   "execution_count": 257,
   "metadata": {},
   "outputs": [
    {
     "name": "stdout",
     "output_type": "stream",
     "text": [
      "1.26411217468\n"
     ]
    }
   ],
   "source": [
    "#Here I compute the slope\n",
    "slope=c[0,1]/c[0,0]\n",
    "print(slope)"
   ]
  },
  {
   "cell_type": "code",
   "execution_count": 258,
   "metadata": {},
   "outputs": [
    {
     "name": "stdout",
     "output_type": "stream",
     "text": [
      "0.412412790359\n"
     ]
    }
   ],
   "source": [
    "#Here I compute the R2 using the correlation coefficient\n",
    "R2=c[0,1]**2/(c[0,0]*c[1,1])\n",
    "print(R2)"
   ]
  },
  {
   "cell_type": "code",
   "execution_count": 276,
   "metadata": {},
   "outputs": [
    {
     "name": "stdout",
     "output_type": "stream",
     "text": [
      "0.619715076519\n",
      "1.5026572672\n",
      "0.88294219068\n",
      "R2 = 0.412412790359\n"
     ]
    }
   ],
   "source": [
    "#Here I compute the R2 using the coefficient of determination formula (would be the same as next one if ddof=0)\n",
    "var_explained=np.var(slope*x,ddof=1)\n",
    "var_total=np.var(y,ddof=1)\n",
    "var_unexplained=np.var(results.resid,ddof=1)\n",
    "R2d=var_explained/var_total\n",
    "print(var_explained)\n",
    "print(var_total)\n",
    "print(var_unexplained)\n",
    "print('R2 = ' + str(R2d))"
   ]
  },
  {
   "cell_type": "code",
   "execution_count": 277,
   "metadata": {},
   "outputs": [
    {
     "name": "stdout",
     "output_type": "stream",
     "text": [
      "0.588729322693\n",
      "1.42752440384\n",
      "0.838795081146\n",
      "R2 = 0.412412790359\n"
     ]
    }
   ],
   "source": [
    "#here I compute R2 using the REAL formula\n",
    "reg=np.mean((slope*x+inter-np.mean(y))**2)\n",
    "tot=np.mean((y-np.mean(y))**2)\n",
    "res=np.mean((y-slope*x-inter)**2)\n",
    "R2e=1-res/tot\n",
    "print(reg)\n",
    "print(tot)\n",
    "print(res)\n",
    "print('R2 = ' + str(R2e))"
   ]
  },
  {
   "cell_type": "code",
   "execution_count": 278,
   "metadata": {},
   "outputs": [
    {
     "name": "stdout",
     "output_type": "stream",
     "text": [
      "R2adj =0.37976905649\n"
     ]
    }
   ],
   "source": [
    "#Here I compute the adjusted R2\n",
    "R2_adj=1-(1-R2)*19/18\n",
    "print('R2adj =' + str(R2_adj))"
   ]
  },
  {
   "cell_type": "code",
   "execution_count": 279,
   "metadata": {},
   "outputs": [
    {
     "name": "stdout",
     "output_type": "stream",
     "text": [
      "0.619715076519\n",
      "0.88294219068\n",
      "1.5026572672\n",
      "Fstat = 12.6337505389\n",
      "Fstat = 12.6337505389\n"
     ]
    }
   ],
   "source": [
    "#Here I compute the F-statistic in two ways\n",
    "print(var_explained)\n",
    "print(var_unexplained)\n",
    "print(var_total)\n",
    "#definition formula \n",
    "Fd=(var_explained/var_unexplained)*(results.df_resid/results.df_model)\n",
    "#formula from Zar (p457)\n",
    "#R2/1-R2=(exp/tot)/(1-exp/tot)=exp/(1-exp)\n",
    "F=(R2/(1-R2))*(results.df_resid/results.df_model)\n",
    "print('Fstat = ' + str(F))\n",
    "print('Fstat = ' + str(Fd))"
   ]
  },
  {
   "cell_type": "code",
   "execution_count": 174,
   "metadata": {},
   "outputs": [
    {
     "data": {
      "text/plain": [
       "-16.775901622916741"
      ]
     },
     "execution_count": 174,
     "metadata": {},
     "output_type": "execute_result"
    }
   ],
   "source": [
    "np.sum(-results.resid**2)"
   ]
  },
  {
   "cell_type": "code",
   "execution_count": 190,
   "metadata": {},
   "outputs": [
    {
     "name": "stdout",
     "output_type": "stream",
     "text": [
      "57.2417644456\n",
      "57.9476467986\n"
     ]
    }
   ],
   "source": [
    "#AIC from log-likelihood: AIC= 2*k-2*log-likelihood  \n",
    "#the likelihood-ratio test is valid only for nested models, whereas AIC (and AICc) has no such restriction\n",
    "AIC=2*2-2*results.llf\n",
    "print(AIC)\n",
    "#correction for AIC (https://en.wikipedia.org/wiki/Akaike_information_criterion)\n",
    "AICc=AIC+2*k*(k+1)/(n-k-1)\n",
    "print(AICc)"
   ]
  },
  {
   "cell_type": "code",
   "execution_count": 198,
   "metadata": {},
   "outputs": [
    {
     "name": "stdout",
     "output_type": "stream",
     "text": [
      "59.2332289927\n"
     ]
    }
   ],
   "source": [
    "#BIC (the penalty term is larger in BIC than in AIC.)\n",
    "BIC=np.log(n)*k-2*results.llf\n",
    "print(BIC)"
   ]
  },
  {
   "cell_type": "code",
   "execution_count": null,
   "metadata": {
    "collapsed": true
   },
   "outputs": [],
   "source": []
  },
  {
   "cell_type": "code",
   "execution_count": 211,
   "metadata": {},
   "outputs": [
    {
     "data": {
      "text/plain": [
       "LinearRegression(copy_X=True, fit_intercept=True, n_jobs=1, normalize=False)"
      ]
     },
     "execution_count": 211,
     "metadata": {},
     "output_type": "execute_result"
    }
   ],
   "source": [
    "#I also use the scikit version\n",
    "regr = linear_model.LinearRegression()\n",
    "x=np.reshape(x,[20,1])\n",
    "x.shape\n",
    "regr.fit(x,y)"
   ]
  },
  {
   "cell_type": "code",
   "execution_count": 214,
   "metadata": {},
   "outputs": [
    {
     "name": "stdout",
     "output_type": "stream",
     "text": [
      "0.412412790359\n"
     ]
    }
   ],
   "source": [
    "#Here is the R2\n",
    "R2s=regr.score(x, y)\n",
    "print(R2s)"
   ]
  },
  {
   "cell_type": "code",
   "execution_count": null,
   "metadata": {
    "collapsed": true
   },
   "outputs": [],
   "source": []
  }
 ],
 "metadata": {
  "kernelspec": {
   "display_name": "Python 3",
   "language": "python",
   "name": "python3"
  },
  "language_info": {
   "codemirror_mode": {
    "name": "ipython",
    "version": 3
   },
   "file_extension": ".py",
   "mimetype": "text/x-python",
   "name": "python",
   "nbconvert_exporter": "python",
   "pygments_lexer": "ipython3",
   "version": "3.5.2"
  }
 },
 "nbformat": 4,
 "nbformat_minor": 2
}
